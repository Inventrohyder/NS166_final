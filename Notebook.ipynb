{
  "nbformat": 4,
  "nbformat_minor": 0,
  "metadata": {
    "colab": {
      "name": "Notebook.ipynb",
      "provenance": [],
      "authorship_tag": "ABX9TyO798u0w+YO6bX9iDDV7xgO",
      "include_colab_link": true
    },
    "kernelspec": {
      "name": "python3",
      "display_name": "Python 3"
    }
  },
  "cells": [
    {
      "cell_type": "markdown",
      "metadata": {
        "id": "view-in-github",
        "colab_type": "text"
      },
      "source": [
        "<a href=\"https://colab.research.google.com/github/Inventrohyder/NS166_final/blob/main/Notebook.ipynb\" target=\"_parent\"><img src=\"https://colab.research.google.com/assets/colab-badge.svg\" alt=\"Open In Colab\"/></a>"
      ]
    },
    {
      "cell_type": "code",
      "metadata": {
        "id": "24SSR7E8T2j3"
      },
      "source": [
        "# Authenticate the Google user\n",
        "from google.colab import auth\n",
        "auth.authenticate_user()\n",
        "\n",
        "import gspread\n",
        "from oauth2client.client import GoogleCredentials\n",
        "\n",
        "gc = gspread.authorize(GoogleCredentials.get_application_default())"
      ],
      "execution_count": 1,
      "outputs": []
    },
    {
      "cell_type": "code",
      "metadata": {
        "id": "8hfCurj1VItI"
      },
      "source": [
        "# Access the Google Sheet\n",
        "worksheet = gc.open_by_key('1Ik1wZgqpTwPdoTVP0m_1WU4Gm2IFU43L9q7bnhXwnsc')\n",
        "worksheet = worksheet.worksheet('NYST_Future')\n",
        "data = worksheet.get_all_values()"
      ],
      "execution_count": 2,
      "outputs": []
    },
    {
      "cell_type": "code",
      "metadata": {
        "colab": {
          "base_uri": "https://localhost:8080/",
          "height": 204
        },
        "id": "DHvqxrMLXxJ0",
        "outputId": "da8bd449-3c16-4821-ffb8-a81d892b8cb0"
      },
      "source": [
        "# Transform the Google Sheet data to a Pandas DataFrame\n",
        "import pandas as pd\n",
        "import numpy as np\n",
        "df = pd.DataFrame(data[1:], columns=data[0])\n",
        "\n",
        "# Clean the data\n",
        "df = df.replace('',np.nan)\n",
        "df = df.replace('N/A', np.nan)\n",
        "for column in df.columns:\n",
        "  df[column] = df[column].astype('float64', errors='ignore')\n",
        "df.head()"
      ],
      "execution_count": 3,
      "outputs": [
        {
          "output_type": "execute_result",
          "data": {
            "text/html": [
              "<div>\n",
              "<style scoped>\n",
              "    .dataframe tbody tr th:only-of-type {\n",
              "        vertical-align: middle;\n",
              "    }\n",
              "\n",
              "    .dataframe tbody tr th {\n",
              "        vertical-align: top;\n",
              "    }\n",
              "\n",
              "    .dataframe thead th {\n",
              "        text-align: right;\n",
              "    }\n",
              "</style>\n",
              "<table border=\"1\" class=\"dataframe\">\n",
              "  <thead>\n",
              "    <tr style=\"text-align: right;\">\n",
              "      <th></th>\n",
              "      <th>ID</th>\n",
              "      <th>QUADNAME</th>\n",
              "      <th>Easting</th>\n",
              "      <th>Northing</th>\n",
              "      <th>Current_July_Temp</th>\n",
              "      <th>Current_Precipit</th>\n",
              "      <th>Future_temp</th>\n",
              "      <th>Future_precipit</th>\n",
              "      <th>Current_with_mink</th>\n",
              "    </tr>\n",
              "  </thead>\n",
              "  <tbody>\n",
              "    <tr>\n",
              "      <th>0</th>\n",
              "      <td>1.0</td>\n",
              "      <td>ROUSES POINT</td>\n",
              "      <td>633135.654</td>\n",
              "      <td>4977693.14</td>\n",
              "      <td>20.85</td>\n",
              "      <td>844.0</td>\n",
              "      <td>23.35</td>\n",
              "      <td>970.60</td>\n",
              "      <td>0.0</td>\n",
              "    </tr>\n",
              "    <tr>\n",
              "      <th>1</th>\n",
              "      <td>2.0</td>\n",
              "      <td>CHAMPLAIN</td>\n",
              "      <td>623273.036</td>\n",
              "      <td>4977637.88</td>\n",
              "      <td>20.60</td>\n",
              "      <td>832.0</td>\n",
              "      <td>23.10</td>\n",
              "      <td>956.80</td>\n",
              "      <td>0.0</td>\n",
              "    </tr>\n",
              "    <tr>\n",
              "      <th>2</th>\n",
              "      <td>3.0</td>\n",
              "      <td>MOOERS</td>\n",
              "      <td>613536.834</td>\n",
              "      <td>4976568.65</td>\n",
              "      <td>20.60</td>\n",
              "      <td>834.0</td>\n",
              "      <td>23.10</td>\n",
              "      <td>959.10</td>\n",
              "      <td>1.0</td>\n",
              "    </tr>\n",
              "    <tr>\n",
              "      <th>3</th>\n",
              "      <td>4.0</td>\n",
              "      <td>RAQUETTE RIVER</td>\n",
              "      <td>514878.984</td>\n",
              "      <td>4975810.76</td>\n",
              "      <td>20.90</td>\n",
              "      <td>891.0</td>\n",
              "      <td>23.40</td>\n",
              "      <td>1024.65</td>\n",
              "      <td>0.0</td>\n",
              "    </tr>\n",
              "    <tr>\n",
              "      <th>4</th>\n",
              "      <td>5.0</td>\n",
              "      <td>ALTONA</td>\n",
              "      <td>603557.797</td>\n",
              "      <td>4976608.70</td>\n",
              "      <td>20.25</td>\n",
              "      <td>854.0</td>\n",
              "      <td>22.75</td>\n",
              "      <td>982.10</td>\n",
              "      <td>0.0</td>\n",
              "    </tr>\n",
              "  </tbody>\n",
              "</table>\n",
              "</div>"
            ],
            "text/plain": [
              "    ID        QUADNAME  ...  Future_precipit  Current_with_mink\n",
              "0  1.0    ROUSES POINT  ...           970.60                0.0\n",
              "1  2.0       CHAMPLAIN  ...           956.80                0.0\n",
              "2  3.0          MOOERS  ...           959.10                1.0\n",
              "3  4.0  RAQUETTE RIVER  ...          1024.65                0.0\n",
              "4  5.0          ALTONA  ...           982.10                0.0\n",
              "\n",
              "[5 rows x 9 columns]"
            ]
          },
          "metadata": {
            "tags": []
          },
          "execution_count": 3
        }
      ]
    },
    {
      "cell_type": "code",
      "metadata": {
        "id": "gEdG3TnNXyHn"
      },
      "source": [
        ""
      ],
      "execution_count": null,
      "outputs": []
    }
  ]
}